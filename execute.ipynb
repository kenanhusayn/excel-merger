{
 "cells": [
  {
   "cell_type": "code",
   "execution_count": 23,
   "metadata": {},
   "outputs": [],
   "source": [
    "# import libraries\n",
    "from pandas import read_excel, merge, ExcelWriter\n",
    "import xlsxwriter\n",
    "\n",
    "# define file names, files must be named as follows\n",
    "file1 = \"merge-file-1.xlsx\"\n",
    "file2 = \"merge-file-2.xlsx\"\n",
    "\n",
    "# get pandas dataframes from files\n",
    "df1 = read_excel(file1)\n",
    "df2 = read_excel(file2)\n",
    "\n",
    "# capitalize both column \"Device Category\" from df1 and column \"DeviceType\" from df2\n",
    "# so that they match regardless of the capitalization\n",
    "df1[\"Device Category\"] = df1[\"Device Category\"].str.lower() \n",
    "df1[\"Device Category\"] = df1[\"Device Category\"].str.capitalize() \n",
    "df2[\"DeviceType\"] = df2[\"DeviceType\"].str.lower()\n",
    "df2[\"DeviceType\"] = df2[\"DeviceType\"].str.capitalize()\n",
    "\n",
    "# replace the \"Computer\" keyword with \"Dsktop\" on \"DeviceType\" column of df2\n",
    "df2[\"DeviceType\"] = df2[\"DeviceType\"].replace(\"Computer\", \"Desktop\")\n",
    "\n",
    "# inner merge \n",
    "df = merge(df1, df2, left_on = [\"Page\", \"Device Category\"], right_on = [\"Labels\", \"DeviceType\"], how='inner')\n",
    "\n",
    "# take the columns that are needed\n",
    "# Page, Campaign, Ad group, Device Category, Publisher CTR, Avg. CPC, Clicks, Publisher Clicks, Spend, Publisher Revenue, Profit, Margin\n",
    "df = df[['Page', 'Campaign', 'Ad group', 'Device Category', 'Publisher CTR', 'Avg. CPC', 'Clicks', 'Publisher Clicks', 'Spend', 'Publisher Revenue']]\n",
    "\n",
    "# add two more columns based on a calculation from other columns\n",
    "df['Profit'] = df['Publisher Revenue'] - df['Spend']\n",
    "df['Margin'] = df['Profit'] / df['Publisher Revenue']\n",
    "df['Margin'] = df['Margin'][df['Margin'] <= 100]\n",
    "df['Margin'] = df['Margin'][df['Margin'] >= 0]\n",
    "        \n",
    "# replace -inf/nan values (string) with $0.00 \n",
    "df['Margin'] = df['Margin'].astype(str).str.replace('-inf','0')\n",
    "df['Margin'] = df['Margin'].astype(str).str.replace('nan','0')\n",
    "df['Margin'] = df['Margin'].astype(float)\n",
    "\n",
    "# rename the column names as follows:\n",
    "# from this - current\n",
    "# Page\tCampaign\tAd group\tDevice Category\tPublisher CTR\tAvg. CPC\tClicks\tPublisher Clicks\tSpend\tPublisher Revenue\tProfit\tMargin\n",
    "# to this - requested\n",
    "# Page\tCampaign\tAd group\tDevice\tAdsense CTR\tBing CPC\tBing Clicks\tAdsense Clicks\tBing Spend\tAdsense Revenue\tProfit\tMargin\n",
    "df.columns = ['Page', 'Campaign', 'Ad group', 'Device', 'Adsense CTR', 'Bing CPC', 'Bing Clicks', 'Adsense Clicks', 'Bing Spend', 'Adsense Revenue', \"Profit\", \"Margin\"]          \n",
    "# Create a Pandas Excel writer using XlsxWriter as the engine.\n",
    "writer = ExcelWriter(\"result.xlsx\", engine='xlsxwriter')\n",
    "\n",
    "# Convert the dataframe to an XlsxWriter Excel object.\n",
    "df.to_excel(writer, index=False, sheet_name='Sheet1')\n",
    "\n",
    "# Get the xlsxwriter workbook and worksheet objects.\n",
    "workbook  = writer.book\n",
    "worksheet = writer.sheets['Sheet1']\n",
    "\n",
    "# Add some cell formats.\n",
    "number_format = workbook.add_format({'num_format': '#,##0'})\n",
    "currency_format = workbook.add_format({'num_format': '$#,##0.00'})\n",
    "percentage_format = workbook.add_format({'num_format': '0.00%'})\n",
    "column_width = 18\n",
    "\n",
    "# Set the column width and format.\n",
    "# number formatL\n",
    "worksheet.set_column('A:A', column_width*2, None)\n",
    "worksheet.set_column('B:B', column_width, None)\n",
    "worksheet.set_column('C:C', column_width*2, None)\n",
    "worksheet.set_column('D:D', column_width, None)\n",
    "worksheet.set_column('E:E', column_width, percentage_format)\n",
    "worksheet.set_column('F:F', column_width, currency_format)\n",
    "worksheet.set_column('G:G', column_width, number_format)\n",
    "worksheet.set_column('H:H', column_width, number_format)\n",
    "worksheet.set_column('I:I', column_width, currency_format)\n",
    "worksheet.set_column('J:J', column_width, currency_format)\n",
    "worksheet.set_column('K:K', column_width, currency_format)\n",
    "worksheet.set_column('L:L', column_width, percentage_format)\n",
    "\n",
    "# Close the Pandas Excel writer and output the Excel file.\n",
    "writer.save()"
   ]
  },
  {
   "cell_type": "code",
   "execution_count": 24,
   "metadata": {},
   "outputs": [
    {
     "data": {
      "text/plain": [
       "(array(['Desktop', 'Smartphone', 'Tablet', '-', 'Search total',\n",
       "        'Audience total', 'Deleted items total', 'Overall total'],\n",
       "       dtype=object),\n",
       " array(['Mobile', 'Tablet', 'Desktop', nan], dtype=object))"
      ]
     },
     "execution_count": 24,
     "metadata": {},
     "output_type": "execute_result"
    }
   ],
   "source": [
    "df2[\"DeviceType\"].unique(), df1[\"Device Category\"].unique()"
   ]
  },
  {
   "cell_type": "code",
   "execution_count": null,
   "metadata": {},
   "outputs": [],
   "source": [
    "data_format1 = workbook.add_format({'bg_color': '#FFC7CE'})\n",
    "data_format2 = workbook.add_format({'bg_color': '#00C7CE'})\n",
    "    \n",
    "for row in range(0, len(df.index), 2):\n",
    "    worksheet.set_row(row, cell_format=data_format1)\n",
    "    worksheet.set_row(row + 1, cell_format=data_format2)"
   ]
  }
 ],
 "metadata": {
  "kernelspec": {
   "display_name": "Python 3",
   "language": "python",
   "name": "python3"
  },
  "language_info": {
   "codemirror_mode": {
    "name": "ipython",
    "version": 3
   },
   "file_extension": ".py",
   "mimetype": "text/x-python",
   "name": "python",
   "nbconvert_exporter": "python",
   "pygments_lexer": "ipython3",
   "version": "3.7.4"
  }
 },
 "nbformat": 4,
 "nbformat_minor": 4
}
